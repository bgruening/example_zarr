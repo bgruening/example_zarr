{
 "cells": [
  {
   "cell_type": "markdown",
   "id": "df1c66ac-f777-4f3a-9a6c-332468c2468f",
   "metadata": {},
   "source": [
    "# Example of Apache Parquet data format\n",
    "\n",
    "From [https://arrow.apache.org/docs/python/parquet.html](https://arrow.apache.org/docs/python/parquet.html)"
   ]
  },
  {
   "cell_type": "code",
   "execution_count": 1,
   "id": "a035a74a-6605-4506-816e-00947b42a822",
   "metadata": {},
   "outputs": [],
   "source": [
    "import numpy as np"
   ]
  },
  {
   "cell_type": "code",
   "execution_count": 2,
   "id": "3c157fb6-b054-4f5b-a3f7-84ebb2cb2dbd",
   "metadata": {},
   "outputs": [],
   "source": [
    "import pandas as pd"
   ]
  },
  {
   "cell_type": "code",
   "execution_count": 3,
   "id": "7083918f-60ab-4198-9e93-b1025baa316e",
   "metadata": {},
   "outputs": [],
   "source": [
    "import pyarrow as pa"
   ]
  },
  {
   "cell_type": "code",
   "execution_count": 4,
   "id": "c0b06b0f-080b-45a0-b0be-01d272dfa3ea",
   "metadata": {},
   "outputs": [],
   "source": [
    "df = pd.DataFrame({'one': [-1, np.nan, 2.5],\n",
    "                   'two': ['foo', 'bar', 'baz'],\n",
    "                   'three': [True, False, True]},\n",
    "                   index=list('abc'))"
   ]
  },
  {
   "cell_type": "code",
   "execution_count": 5,
   "id": "98ac23a8-174d-429f-85a0-ac8e2942519b",
   "metadata": {},
   "outputs": [
    {
     "name": "stderr",
     "output_type": "stream",
     "text": [
      "/srv/conda/envs/notebook/lib/python3.11/site-packages/pyarrow/pandas_compat.py:373: FutureWarning: is_sparse is deprecated and will be removed in a future version. Check `isinstance(dtype, pd.SparseDtype)` instead.\n",
      "  if _pandas_api.is_sparse(col):\n"
     ]
    }
   ],
   "source": [
    "table = pa.Table.from_pandas(df)"
   ]
  },
  {
   "cell_type": "code",
   "execution_count": 6,
   "id": "da94f3a0-515d-46ab-abd0-1c425b1cb3ef",
   "metadata": {},
   "outputs": [],
   "source": [
    "import pyarrow.parquet as pq"
   ]
  },
  {
   "cell_type": "code",
   "execution_count": 7,
   "id": "71f31212-da0d-47c5-891a-8d4ccdde6901",
   "metadata": {},
   "outputs": [],
   "source": [
    "pq.write_table(table, 'example.parquet')"
   ]
  },
  {
   "cell_type": "markdown",
   "id": "04368859-433e-4dfc-b2ab-6d25c221d711",
   "metadata": {},
   "source": [
    "# GeoParquet data format\n",
    "\n",
    "Shapefile is from [https://www.statsilk.com/maps/download-free-shapefile-maps](https://www.statsilk.com/maps/download-free-shapefile-maps)"
   ]
  },
  {
   "cell_type": "code",
   "execution_count": 9,
   "id": "4f080b40-60ce-451c-8e93-6d4718e40eb6",
   "metadata": {},
   "outputs": [
    {
     "name": "stdout",
     "output_type": "stream",
     "text": [
      "Collecting geoparquet\n",
      "  Downloading geoparquet-0.0.3-py3-none-any.whl (4.3 kB)\n",
      "Installing collected packages: geoparquet\n",
      "Successfully installed geoparquet-0.0.3\n",
      "Note: you may need to restart the kernel to use updated packages.\n"
     ]
    }
   ],
   "source": [
    "pip install geoparquet"
   ]
  },
  {
   "cell_type": "code",
   "execution_count": 10,
   "id": "b4cfef18-8ace-4009-ac8f-2a6880616895",
   "metadata": {},
   "outputs": [],
   "source": [
    "import geopandas as gpd\n",
    "import geoparquet as gpq"
   ]
  },
  {
   "cell_type": "code",
   "execution_count": 13,
   "id": "a686542b-11d7-48dd-863e-928b063dae80",
   "metadata": {},
   "outputs": [
    {
     "name": "stderr",
     "output_type": "stream",
     "text": [
      "/srv/conda/envs/notebook/lib/python3.11/site-packages/geoparquet/__init__.py:34: UserWarning: Geometry column does not contain geometry.\n",
      "  df[geom_col_name] = P.map(shapely.wkb.dumps, df[geom_col_name])\n",
      "/srv/conda/envs/notebook/lib/python3.11/site-packages/pyarrow/pandas_compat.py:373: FutureWarning: is_sparse is deprecated and will be removed in a future version. Check `isinstance(dtype, pd.SparseDtype)` instead.\n",
      "  if _pandas_api.is_sparse(col):\n"
     ]
    }
   ],
   "source": [
    "# read in file from shapefile or other format using geopandas\n",
    "gdf = gpd.read_file('/home/jovyan/StatPlanet_France/map/map.shp')\n",
    "\n",
    "# call .to_geoparquet() method on geopandas GeoDataFrame to write to file\n",
    "gdf.to_geoparquet('example_file.geoparquet')\n",
    "\n",
    "# read from file by calling gpq.read_geoparquet() function\n",
    "gdf = gpq.read_geoparquet('example_file.geoparquet')"
   ]
  },
  {
   "cell_type": "code",
   "execution_count": null,
   "id": "d331e468-8912-42b0-8627-dcbdd84b37d6",
   "metadata": {},
   "outputs": [],
   "source": []
  }
 ],
 "metadata": {
  "kernelspec": {
   "display_name": "Python 3 (ipykernel)",
   "language": "python",
   "name": "python3"
  },
  "language_info": {
   "codemirror_mode": {
    "name": "ipython",
    "version": 3
   },
   "file_extension": ".py",
   "mimetype": "text/x-python",
   "name": "python",
   "nbconvert_exporter": "python",
   "pygments_lexer": "ipython3",
   "version": "3.11.6"
  }
 },
 "nbformat": 4,
 "nbformat_minor": 5
}
