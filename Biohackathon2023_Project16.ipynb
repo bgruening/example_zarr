{
 "cells": [
  {
   "cell_type": "markdown",
   "id": "69d9e05d-2303-4f12-b92a-0d93164153c0",
   "metadata": {},
   "source": [
    "# Biohackathon Project 16 - Enhancing Image Analysis with Galaxy"
   ]
  },
  {
   "cell_type": "code",
   "execution_count": null,
   "id": "f2d3210f-c9fd-4758-aa05-c18ab48e0692",
   "metadata": {
    "tags": []
   },
   "outputs": [],
   "source": [
    "!conda install --yes -c ome bioformats2raw"
   ]
  },
  {
   "cell_type": "code",
   "execution_count": null,
   "id": "b52894ed-675d-4d5c-b662-cc812b2c91e6",
   "metadata": {
    "tags": []
   },
   "outputs": [],
   "source": [
    "!bioformats2raw Biohackathon_Team16.jpg Biohackathon_Team16.zarr"
   ]
  },
  {
   "cell_type": "code",
   "execution_count": null,
   "id": "18d15e98-c4ba-48d0-9513-2d6aa1b04436",
   "metadata": {},
   "outputs": [],
   "source": [
    "pip install \"imjoy>=0.10.0\"  \"imjoy-jupyter-extension>=0.2.14\" \"imjoy-rpc>=0.2.12\""
   ]
  },
  {
   "cell_type": "code",
   "execution_count": null,
   "id": "74d74704-3c9b-438a-9a1d-f581200732a0",
   "metadata": {},
   "outputs": [],
   "source": [
    "pip install 'itkwidgets[all]>=1.0a23'"
   ]
  },
  {
   "cell_type": "code",
   "execution_count": null,
   "id": "e9b39671-7764-46f5-bd8d-e2c0e0582e79",
   "metadata": {},
   "outputs": [],
   "source": [
    "!wget https://raw.githubusercontent.com/hms-dbmi/vizarr/main/example/imjoy_plugin.py"
   ]
  },
  {
   "cell_type": "code",
   "execution_count": 1,
   "id": "fd28376d-a31d-4603-a6da-de6a283bb721",
   "metadata": {
    "tags": []
   },
   "outputs": [
    {
     "data": {
      "application/javascript": [
       "window.connectPlugin && window.connectPlugin(\"e32fe52e-12a6-4690-85ad-31dc84f12766\")"
      ],
      "text/plain": [
       "<IPython.core.display.Javascript object>"
      ]
     },
     "metadata": {},
     "output_type": "display_data"
    },
    {
     "data": {
      "text/html": [
       "<div id=\"40a8378d-6c35-4b2b-b243-6b9c921f8016\"></div>"
      ],
      "text/plain": [
       "<IPython.core.display.HTML object>"
      ]
     },
     "metadata": {},
     "output_type": "display_data"
    }
   ],
   "source": [
    "import zarr\n",
    "dset = zarr.open(\"Biohackathon_Team16.zarr\", mode=\"r\").get(0) # open the zarr created above in jupyter kernel\n",
    "\n",
    "from imjoy_plugin import run_vizarr\n",
    "\n",
    "# Create Zarr \n",
    "img = { \"source\": dset, \"name\": \"test\" }\n",
    "\n",
    "# Run vizarr\n",
    "run_vizarr(img)"
   ]
  },
  {
   "cell_type": "code",
   "execution_count": null,
   "id": "11998642-6863-4183-938c-3612f1390d66",
   "metadata": {},
   "outputs": [],
   "source": []
  }
 ],
 "metadata": {
  "kernelspec": {
   "display_name": "Python 3 (ipykernel)",
   "language": "python",
   "name": "python3"
  },
  "language_info": {
   "codemirror_mode": {
    "name": "ipython",
    "version": 3
   },
   "file_extension": ".py",
   "mimetype": "text/x-python",
   "name": "python",
   "nbconvert_exporter": "python",
   "pygments_lexer": "ipython3",
   "version": "3.8.8"
  },
  "widgets": {
   "application/vnd.jupyter.widget-state+json": {
    "state": {},
    "version_major": 2,
    "version_minor": 0
   }
  }
 },
 "nbformat": 4,
 "nbformat_minor": 5
}
