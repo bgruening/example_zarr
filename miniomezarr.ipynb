{
 "cells": [
  {
   "cell_type": "code",
   "execution_count": 1,
   "metadata": {},
   "outputs": [],
   "source": [
    "import numpy as np\n",
    "import zarr\n",
    "import os\n",
    "from skimage.data import binary_blobs\n",
    "from ome_zarr.io import parse_url\n",
    "from ome_zarr.writer import write_image"
   ]
  },
  {
   "cell_type": "code",
   "execution_count": 2,
   "metadata": {},
   "outputs": [
    {
     "data": {
      "text/plain": [
       "[]"
      ]
     },
     "execution_count": 2,
     "metadata": {},
     "output_type": "execute_result"
    }
   ],
   "source": [
    "path = r\"omezarr/test_ngff_image.zarr\"\n",
    "os.mkdir(path)\n",
    "\n",
    "mean_val=10\n",
    "size_xy = 128\n",
    "size_z = 10\n",
    "rng = np.random.default_rng(0)\n",
    "data = rng.poisson(mean_val, size=(size_z, size_xy, size_xy)).astype(np.uint8)\n",
    "\n",
    "# write the image data\n",
    "store = parse_url(path, mode=\"w\").store\n",
    "root = zarr.group(store=store)\n",
    "write_image(image=data, group=root, axes=\"zyx\", storage_options=dict(chunks=(1, size_xy, size_xy)))\n",
    "# optional rendering settings\n",
    "root.attrs[\"omero\"] = {\n",
    "    \"channels\": [{\n",
    "        \"color\": \"00FFFF\",\n",
    "        \"window\": {\"start\": 0, \"end\": 20, \"min\": 0, \"max\": 255},\n",
    "        \"label\": \"random\",\n",
    "        \"active\": True,\n",
    "    }]\n",
    "}\n",
    "\n",
    "\n",
    "# add labels...\n",
    "blobs = binary_blobs(length=size_xy, volume_fraction=0.1, n_dim=3).astype('int8')\n",
    "blobs2 = binary_blobs(length=size_xy, volume_fraction=0.1, n_dim=3).astype('int8')\n",
    "# blobs will contain values of 1, 2 and 0 (background)\n",
    "blobs += 2 * blobs2\n",
    "\n",
    "# label.shape is (size_xy, size_xy, size_xy), Slice to match the data\n",
    "label = blobs[:size_z, :, :]\n",
    "\n",
    "# write the labels to /labels\n",
    "labels_grp = root.create_group(\"labels\")\n",
    "# the 'labels' .zattrs lists the named labels data\n",
    "label_name = \"blobs\"\n",
    "labels_grp.attrs[\"labels\"] = [label_name]\n",
    "label_grp = labels_grp.create_group(label_name)\n",
    "# need 'image-label' attr to be recognized as label\n",
    "label_grp.attrs[\"image-label\"] = {\n",
    "    \"colors\": [\n",
    "        {\"label-value\": 1, \"rgba\": [255, 0, 0, 255]},\n",
    "        {\"label-value\": 2, \"rgba\": [0, 255, 0, 255]},\n",
    "        {\"label-value\": 3, \"rgba\": [255, 255, 0, 255]}\n",
    "    ]\n",
    "}\n",
    "\n",
    "write_image(label, label_grp, axes=\"zyx\")"
   ]
  },
  {
   "cell_type": "code",
   "execution_count": 3,
   "metadata": {},
   "outputs": [],
   "source": [
    "from ome_zarr.io import parse_url\n",
    "from ome_zarr.reader import Reader\n",
    "import napari\n",
    "\n",
    "url = \"https://uk1s3.embassy.ebi.ac.uk/idr/zarr/v0.4/idr0062A/6001240.zarr\"\n",
    "\n",
    "# read the image data\n",
    "store = parse_url(url, mode=\"r\").store\n",
    "\n",
    "reader = Reader(parse_url(url))\n",
    "# nodes may include images, labels etc\n",
    "nodes = list(reader())\n",
    "# first node will be the image pixel data\n",
    "image_node = nodes[0]\n",
    "\n",
    "dask_data = image_node.data\n"
   ]
  },
  {
   "cell_type": "code",
   "execution_count": 4,
   "metadata": {},
   "outputs": [
    {
     "ename": "ImportError",
     "evalue": "No Qt bindings could be found.\n\nnapari requires either PyQt5 or PySide2 to be installed in the environment.\nTo install the default backend (currently PyQt5), run \"pip install napari[all]\" \nYou may also use \"pip install napari[pyside2]\"for Pyside2, or \"pip install napari[pyqt5]\" for PyQt5",
     "output_type": "error",
     "traceback": [
      "\u001b[1;31m---------------------------------------------------------------------------\u001b[0m",
      "\u001b[1;31mQtBindingsNotFoundError\u001b[0m                   Traceback (most recent call last)",
      "File \u001b[1;32mc:\\GBW_MyDownloads\\galaxy\\.venv\\lib\\site-packages\\napari\\_qt\\__init__.py:8\u001b[0m\n\u001b[0;32m      7\u001b[0m \u001b[39mtry\u001b[39;00m:\n\u001b[1;32m----> 8\u001b[0m     \u001b[39mfrom\u001b[39;00m \u001b[39mqtpy\u001b[39;00m \u001b[39mimport\u001b[39;00m API_NAME, QtCore\n\u001b[0;32m      9\u001b[0m \u001b[39mexcept\u001b[39;00m \u001b[39mException\u001b[39;00m \u001b[39mas\u001b[39;00m e:\n",
      "File \u001b[1;32mc:\\GBW_MyDownloads\\galaxy\\.venv\\lib\\site-packages\\qtpy\\__init__.py:287\u001b[0m\n\u001b[0;32m    286\u001b[0m \u001b[39mexcept\u001b[39;00m \u001b[39mImportError\u001b[39;00m:\n\u001b[1;32m--> 287\u001b[0m     \u001b[39mraise\u001b[39;00m QtBindingsNotFoundError \u001b[39mfrom\u001b[39;00m \u001b[39mNone\u001b[39;00m\n\u001b[0;32m    288\u001b[0m \u001b[39melse\u001b[39;00m:\n",
      "\u001b[1;31mQtBindingsNotFoundError\u001b[0m: No Qt bindings could be found",
      "\nThe above exception was the direct cause of the following exception:\n",
      "\u001b[1;31mImportError\u001b[0m                               Traceback (most recent call last)",
      "\u001b[1;32mc:\\GBW_MyDownloads\\galaxy\\miniomezarr.ipynb Cell 4\u001b[0m line \u001b[0;36m5\n\u001b[0;32m      <a href='vscode-notebook-cell:/c%3A/GBW_MyDownloads/galaxy/miniomezarr.ipynb#W3sZmlsZQ%3D%3D?line=2'>3</a>\u001b[0m viewer \u001b[39m=\u001b[39m napari\u001b[39m.\u001b[39mview_image(dask_data, channel_axis\u001b[39m=\u001b[39m\u001b[39m0\u001b[39m)\n\u001b[0;32m      <a href='vscode-notebook-cell:/c%3A/GBW_MyDownloads/galaxy/miniomezarr.ipynb#W3sZmlsZQ%3D%3D?line=3'>4</a>\u001b[0m \u001b[39mif\u001b[39;00m \u001b[39m__name__\u001b[39m \u001b[39m==\u001b[39m \u001b[39m'\u001b[39m\u001b[39m__main__\u001b[39m\u001b[39m'\u001b[39m:\n\u001b[1;32m----> <a href='vscode-notebook-cell:/c%3A/GBW_MyDownloads/galaxy/miniomezarr.ipynb#W3sZmlsZQ%3D%3D?line=4'>5</a>\u001b[0m     napari\u001b[39m.\u001b[39;49mrun()\n",
      "File \u001b[1;32mc:\\GBW_MyDownloads\\galaxy\\.venv\\lib\\site-packages\\napari\\_event_loop.py:12\u001b[0m, in \u001b[0;36mrun\u001b[1;34m(**kwargs)\u001b[0m\n\u001b[0;32m     11\u001b[0m \u001b[39mdef\u001b[39;00m \u001b[39mrun\u001b[39m(\u001b[39m*\u001b[39m\u001b[39m*\u001b[39mkwargs):\n\u001b[1;32m---> 12\u001b[0m     \u001b[39mraise\u001b[39;00m exc\n",
      "    \u001b[1;31m[... skipping hidden 1 frame]\u001b[0m\n",
      "\u001b[1;32mc:\\GBW_MyDownloads\\galaxy\\miniomezarr.ipynb Cell 4\u001b[0m line \u001b[0;36m2\n\u001b[0;32m     <a href='vscode-notebook-cell:/c%3A/GBW_MyDownloads/galaxy/miniomezarr.ipynb#W3sZmlsZQ%3D%3D?line=19'>20</a>\u001b[0m viewer \u001b[39m=\u001b[39m napari\u001b[39m.\u001b[39mview_image(dask_data, channel_axis\u001b[39m=\u001b[39m\u001b[39m0\u001b[39m)\n\u001b[0;32m     <a href='vscode-notebook-cell:/c%3A/GBW_MyDownloads/galaxy/miniomezarr.ipynb#W3sZmlsZQ%3D%3D?line=20'>21</a>\u001b[0m \u001b[39mif\u001b[39;00m \u001b[39m__name__\u001b[39m \u001b[39m==\u001b[39m \u001b[39m'\u001b[39m\u001b[39m__main__\u001b[39m\u001b[39m'\u001b[39m:\n\u001b[1;32m---> <a href='vscode-notebook-cell:/c%3A/GBW_MyDownloads/galaxy/miniomezarr.ipynb#W3sZmlsZQ%3D%3D?line=21'>22</a>\u001b[0m     napari\u001b[39m.\u001b[39;49mrun()\n",
      "File \u001b[1;32mc:\\GBW_MyDownloads\\galaxy\\.venv\\lib\\site-packages\\napari\\_event_loop.py:12\u001b[0m, in \u001b[0;36mrun\u001b[1;34m(**kwargs)\u001b[0m\n\u001b[0;32m     11\u001b[0m \u001b[39mdef\u001b[39;00m \u001b[39mrun\u001b[39m(\u001b[39m*\u001b[39m\u001b[39m*\u001b[39mkwargs):\n\u001b[1;32m---> 12\u001b[0m     \u001b[39mraise\u001b[39;00m exc\n",
      "    \u001b[1;31m[... skipping hidden 1 frame]\u001b[0m\n",
      "\u001b[1;32mc:\\GBW_MyDownloads\\galaxy\\miniomezarr.ipynb Cell 4\u001b[0m line \u001b[0;36m2\n\u001b[0;32m     <a href='vscode-notebook-cell:/c%3A/GBW_MyDownloads/galaxy/miniomezarr.ipynb#W3sZmlsZQ%3D%3D?line=19'>20</a>\u001b[0m viewer \u001b[39m=\u001b[39m napari\u001b[39m.\u001b[39mview_image(dask_data, channel_axis\u001b[39m=\u001b[39m\u001b[39m0\u001b[39m)\n\u001b[0;32m     <a href='vscode-notebook-cell:/c%3A/GBW_MyDownloads/galaxy/miniomezarr.ipynb#W3sZmlsZQ%3D%3D?line=20'>21</a>\u001b[0m \u001b[39mif\u001b[39;00m \u001b[39m__name__\u001b[39m \u001b[39m==\u001b[39m \u001b[39m'\u001b[39m\u001b[39m__main__\u001b[39m\u001b[39m'\u001b[39m:\n\u001b[1;32m---> <a href='vscode-notebook-cell:/c%3A/GBW_MyDownloads/galaxy/miniomezarr.ipynb#W3sZmlsZQ%3D%3D?line=21'>22</a>\u001b[0m     napari\u001b[39m.\u001b[39;49mrun()\n",
      "File \u001b[1;32mc:\\GBW_MyDownloads\\galaxy\\.venv\\lib\\site-packages\\napari\\_event_loop.py:12\u001b[0m, in \u001b[0;36mrun\u001b[1;34m(**kwargs)\u001b[0m\n\u001b[0;32m     11\u001b[0m \u001b[39mdef\u001b[39;00m \u001b[39mrun\u001b[39m(\u001b[39m*\u001b[39m\u001b[39m*\u001b[39mkwargs):\n\u001b[1;32m---> 12\u001b[0m     \u001b[39mraise\u001b[39;00m exc\n",
      "File \u001b[1;32mc:\\GBW_MyDownloads\\galaxy\\.venv\\lib\\site-packages\\napari\\_event_loop.py:2\u001b[0m\n\u001b[0;32m      1\u001b[0m \u001b[39mtry\u001b[39;00m:\n\u001b[1;32m----> 2\u001b[0m     \u001b[39mfrom\u001b[39;00m \u001b[39mnapari\u001b[39;00m\u001b[39m.\u001b[39;00m\u001b[39m_qt\u001b[39;00m\u001b[39m.\u001b[39;00m\u001b[39mqt_event_loop\u001b[39;00m \u001b[39mimport\u001b[39;00m gui_qt, run\n\u001b[0;32m      4\u001b[0m \u001b[39m# qtpy raises a RuntimeError if no Qt bindings can be found\u001b[39;00m\n\u001b[0;32m      5\u001b[0m \u001b[39mexcept\u001b[39;00m (\u001b[39mImportError\u001b[39;00m, \u001b[39mRuntimeError\u001b[39;00m) \u001b[39mas\u001b[39;00m e:\n",
      "File \u001b[1;32mc:\\GBW_MyDownloads\\galaxy\\.venv\\lib\\site-packages\\napari\\_qt\\__init__.py:11\u001b[0m\n\u001b[0;32m      9\u001b[0m \u001b[39mexcept\u001b[39;00m \u001b[39mException\u001b[39;00m \u001b[39mas\u001b[39;00m e:\n\u001b[0;32m     10\u001b[0m     \u001b[39mif\u001b[39;00m \u001b[39m'\u001b[39m\u001b[39mNo Qt bindings could be found\u001b[39m\u001b[39m'\u001b[39m \u001b[39min\u001b[39;00m \u001b[39mstr\u001b[39m(e):\n\u001b[1;32m---> 11\u001b[0m         \u001b[39mraise\u001b[39;00m \u001b[39mImportError\u001b[39;00m(\n\u001b[0;32m     12\u001b[0m             trans\u001b[39m.\u001b[39m_(\n\u001b[0;32m     13\u001b[0m                 \u001b[39m'\u001b[39m\u001b[39mNo Qt bindings could be found.\u001b[39m\u001b[39m\\n\u001b[39;00m\u001b[39m\\n\u001b[39;00m\u001b[39mnapari requires either PyQt5 or PySide2 to be installed in the environment.\u001b[39m\u001b[39m\\n\u001b[39;00m\u001b[39mTo install the default backend (currently PyQt5), run \u001b[39m\u001b[39m\"\u001b[39m\u001b[39mpip install napari[all]\u001b[39m\u001b[39m\"\u001b[39m\u001b[39m \u001b[39m\u001b[39m\\n\u001b[39;00m\u001b[39mYou may also use \u001b[39m\u001b[39m\"\u001b[39m\u001b[39mpip install napari[pyside2]\u001b[39m\u001b[39m\"\u001b[39m\u001b[39mfor Pyside2, or \u001b[39m\u001b[39m\"\u001b[39m\u001b[39mpip install napari[pyqt5]\u001b[39m\u001b[39m\"\u001b[39m\u001b[39m for PyQt5\u001b[39m\u001b[39m'\u001b[39m,\n\u001b[0;32m     14\u001b[0m                 deferred\u001b[39m=\u001b[39m\u001b[39mTrue\u001b[39;00m,\n\u001b[0;32m     15\u001b[0m             )\n\u001b[0;32m     16\u001b[0m         ) \u001b[39mfrom\u001b[39;00m \u001b[39me\u001b[39;00m\n\u001b[0;32m     17\u001b[0m     \u001b[39mraise\u001b[39;00m\n\u001b[0;32m     20\u001b[0m \u001b[39mif\u001b[39;00m API_NAME \u001b[39m==\u001b[39m \u001b[39m'\u001b[39m\u001b[39mPySide2\u001b[39m\u001b[39m'\u001b[39m:\n\u001b[0;32m     21\u001b[0m     \u001b[39m# Set plugin path appropriately if using PySide2. This is a bug fix\u001b[39;00m\n\u001b[0;32m     22\u001b[0m     \u001b[39m# for when both PyQt5 and Pyside2 are installed\u001b[39;00m\n",
      "\u001b[1;31mImportError\u001b[0m: No Qt bindings could be found.\n\nnapari requires either PyQt5 or PySide2 to be installed in the environment.\nTo install the default backend (currently PyQt5), run \"pip install napari[all]\" \nYou may also use \"pip install napari[pyside2]\"for Pyside2, or \"pip install napari[pyqt5]\" for PyQt5"
     ]
    }
   ],
   "source": [
    "# We can view this in napari\n",
    "# NB: image axes are CZYX: split channels by C axis=0\n",
    "viewer = napari.view_image(dask_data, channel_axis=0)\n",
    "if __name__ == '__main__':\n",
    "    napari.run()"
   ]
  }
 ],
 "metadata": {
  "kernelspec": {
   "display_name": ".venv",
   "language": "python",
   "name": "python3"
  },
  "language_info": {
   "codemirror_mode": {
    "name": "ipython",
    "version": 3
   },
   "file_extension": ".py",
   "mimetype": "text/x-python",
   "name": "python",
   "nbconvert_exporter": "python",
   "pygments_lexer": "ipython3",
   "version": "3.9.7"
  }
 },
 "nbformat": 4,
 "nbformat_minor": 2
}
