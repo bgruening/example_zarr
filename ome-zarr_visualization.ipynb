{
 "cells": [
  {
   "cell_type": "code",
   "execution_count": null,
   "id": "turned-relative",
   "metadata": {},
   "outputs": [],
   "source": [
    "pip install \"napari[all]\" ome-zarr"
   ]
  },
  {
   "cell_type": "code",
   "execution_count": null,
   "id": "twelve-collective",
   "metadata": {},
   "outputs": [],
   "source": [
    "from ome_zarr.io import parse_url\n",
    "from ome_zarr.reader import Reader\n",
    "import napari"
   ]
  },
  {
   "cell_type": "code",
   "execution_count": null,
   "id": "balanced-grammar",
   "metadata": {},
   "outputs": [],
   "source": [
    "url = \"ex_ngff_image.zarr\"\n",
    "\n",
    "# read the image data\n",
    "store = parse_url(url, mode=\"r\").store\n",
    "reader = Reader(parse_url(url))"
   ]
  },
  {
   "cell_type": "code",
   "execution_count": null,
   "id": "driving-techno",
   "metadata": {},
   "outputs": [],
   "source": [
    "reader"
   ]
  },
  {
   "cell_type": "code",
   "execution_count": null,
   "id": "ancient-waterproof",
   "metadata": {},
   "outputs": [],
   "source": [
    "nodes = list(reader())\n",
    "# first node will be the image pixel data\n",
    "image_node = nodes[0]\n",
    "\n",
    "dask_data = image_node.data\n"
   ]
  },
  {
   "cell_type": "code",
   "execution_count": null,
   "id": "willing-preview",
   "metadata": {},
   "outputs": [],
   "source": [
    "dask_data"
   ]
  },
  {
   "cell_type": "code",
   "execution_count": null,
   "id": "unsigned-phrase",
   "metadata": {},
   "outputs": [],
   "source": []
  },
  {
   "cell_type": "code",
   "execution_count": null,
   "id": "heated-conference",
   "metadata": {},
   "outputs": [],
   "source": []
  }
 ],
 "metadata": {
  "kernelspec": {
   "display_name": "Python 3",
   "language": "python",
   "name": "python3"
  },
  "language_info": {
   "codemirror_mode": {
    "name": "ipython",
    "version": 3
   },
   "file_extension": ".py",
   "mimetype": "text/x-python",
   "name": "python",
   "nbconvert_exporter": "python",
   "pygments_lexer": "ipython3",
   "version": "3.8.8"
  }
 },
 "nbformat": 4,
 "nbformat_minor": 5
}
