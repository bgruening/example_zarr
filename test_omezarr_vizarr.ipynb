{
 "cells": [
  {
   "cell_type": "markdown",
   "metadata": {},
   "source": [
    "# Visualize OME-Zarr in Galaxy JupyterLab"
   ]
  },
  {
   "cell_type": "markdown",
   "metadata": {},
   "source": [
    "You can access your data via the dataset number. Using a Python kernel, you can access dataset number 42 with ``handle = open(get(42), 'r')``.\n",
    "To save data, write your data to a file, and then call ``put('filename.txt')``. The dataset will then be available in your galaxy history.\n",
    "<br>When using a non-Python kernel, ``get`` and ``put`` are available as command-line tools, which can be accessed using system calls in R, Julia, and Ruby. For example, to read dataset number 42 into R, you can write ```handle <- file(system('get -i 42', intern = TRUE))```.\n",
    "To save data in R, write the data to a file and then call ``system('put -p filename.txt')``.\n",
    "Notebooks can be saved to Galaxy by clicking the large green button at the top right of the IPython interface.<br>\n",
    "More help and informations can be found on the project [website](https://github.com/bgruening/docker-jupyter-notebook)."
   ]
  },
  {
   "cell_type": "code",
   "execution_count": null,
   "metadata": {},
   "outputs": [],
   "source": [
    "pip install \"imjoy>=0.10.0\"  \"imjoy-jupyter-extension>=0.2.14\" \"imjoy-rpc>=0.2.12\""
   ]
  },
  {
   "cell_type": "code",
   "execution_count": null,
   "metadata": {
    "tags": []
   },
   "outputs": [],
   "source": [
    "pip install 'itkwidgets[all]>=1.0a23'"
   ]
  },
  {
   "cell_type": "code",
   "execution_count": 3,
   "metadata": {},
   "outputs": [
    {
     "name": "stdout",
     "output_type": "stream",
     "text": [
      "--2023-11-02 22:34:03--  https://raw.githubusercontent.com/hms-dbmi/vizarr/main/example/imjoy_plugin.py\n",
      "Resolving raw.githubusercontent.com (raw.githubusercontent.com)... 185.199.108.133, 185.199.109.133, 185.199.110.133, ...\n",
      "Connecting to raw.githubusercontent.com (raw.githubusercontent.com)|185.199.108.133|:443... connected.\n",
      "HTTP request sent, awaiting response... 200 OK\n",
      "Length: 729 [text/plain]\n",
      "Saving to: ‘imjoy_plugin.py’\n",
      "\n",
      "imjoy_plugin.py     100%[===================>]     729  --.-KB/s    in 0s      \n",
      "\n",
      "2023-11-02 22:34:03 (24.2 MB/s) - ‘imjoy_plugin.py’ saved [729/729]\n",
      "\n"
     ]
    }
   ],
   "source": [
    "!wget https://raw.githubusercontent.com/hms-dbmi/vizarr/main/example/imjoy_plugin.py"
   ]
  },
  {
   "cell_type": "markdown",
   "metadata": {},
   "source": [
    "## Visualize a OME-Zarr from an external bucket"
   ]
  },
  {
   "cell_type": "code",
   "execution_count": 4,
   "metadata": {},
   "outputs": [
    {
     "data": {
      "application/javascript": [
       "window.connectPlugin && window.connectPlugin(\"1329e09a-c4ec-4411-8e55-7fa6f06b3e39\")"
      ],
      "text/plain": [
       "<IPython.core.display.Javascript object>"
      ]
     },
     "metadata": {},
     "output_type": "display_data"
    },
    {
     "data": {
      "text/html": [
       "<div id=\"94bc6064-f6fe-4759-9dde-086398c91aa5\"></div>"
      ],
      "text/plain": [
       "<IPython.core.display.HTML object>"
      ]
     },
     "metadata": {},
     "output_type": "display_data"
    }
   ],
   "source": [
    "import zarr\n",
    "dset = zarr.open(\"https://uk1s3.embassy.ebi.ac.uk/idr/zarr/v0.1/6001237.zarr\", mode=\"r\") # open the zarr created above in jupyter kernel\n",
    "\n",
    "from imjoy_plugin import run_vizarr\n",
    "\n",
    "# Create Zarr \n",
    "img = { \"source\": dset, \"name\": \"test\" }\n",
    "\n",
    "# Run vizarr\n",
    "run_vizarr(img)"
   ]
  },
  {
   "cell_type": "markdown",
   "metadata": {},
   "source": [
    "## Visualize a local OME-Zarr"
   ]
  },
  {
   "cell_type": "code",
   "execution_count": 7,
   "metadata": {
    "tags": []
   },
   "outputs": [],
   "source": [
    "!tar xf ex_ngff_image.zarr.tar"
   ]
  },
  {
   "cell_type": "code",
   "execution_count": 8,
   "metadata": {},
   "outputs": [
    {
     "data": {
      "application/javascript": [
       "window.connectPlugin && window.connectPlugin(\"1329e09a-c4ec-4411-8e55-7fa6f06b3e39\")"
      ],
      "text/plain": [
       "<IPython.core.display.Javascript object>"
      ]
     },
     "metadata": {},
     "output_type": "display_data"
    },
    {
     "data": {
      "text/html": [
       "<div id=\"e807adf2-ed2c-49d6-9103-4dd210523088\"></div>"
      ],
      "text/plain": [
       "<IPython.core.display.HTML object>"
      ]
     },
     "metadata": {},
     "output_type": "display_data"
    }
   ],
   "source": [
    "import zarr\n",
    "dset = zarr.open(\"ex_ngff_image.zarr\", mode=\"r\") # open the zarr created above in jupyter kernel\n",
    "\n",
    "from imjoy_plugin import run_vizarr\n",
    "\n",
    "# Create Zarr \n",
    "img = { \"source\": dset, \"name\": \"test\" }\n",
    "\n",
    "# Run vizarr\n",
    "run_vizarr(img)"
   ]
  },
  {
   "cell_type": "code",
   "execution_count": null,
   "metadata": {},
   "outputs": [],
   "source": []
  }
 ],
 "metadata": {
  "kernelspec": {
   "display_name": "Python 3 (ipykernel)",
   "language": "python",
   "name": "python3"
  },
  "language_info": {
   "codemirror_mode": {
    "name": "ipython",
    "version": 3
   },
   "file_extension": ".py",
   "mimetype": "text/x-python",
   "name": "python",
   "nbconvert_exporter": "python",
   "pygments_lexer": "ipython3",
   "version": "3.8.8"
  }
 },
 "nbformat": 4,
 "nbformat_minor": 4
}
