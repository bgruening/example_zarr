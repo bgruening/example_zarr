{
 "cells": [
  {
   "cell_type": "markdown",
   "metadata": {},
   "source": [
    "# Visualize OME-Zarr in Galaxy JupyterLab"
   ]
  },
  {
   "cell_type": "markdown",
   "metadata": {},
   "source": [
    "You can access your data via the dataset number. Using a Python kernel, you can access dataset number 42 with ``handle = open(get(42), 'r')``.\n",
    "To save data, write your data to a file, and then call ``put('filename.txt')``. The dataset will then be available in your galaxy history.\n",
    "<br>When using a non-Python kernel, ``get`` and ``put`` are available as command-line tools, which can be accessed using system calls in R, Julia, and Ruby. For example, to read dataset number 42 into R, you can write ```handle <- file(system('get -i 42', intern = TRUE))```.\n",
    "To save data in R, write the data to a file and then call ``system('put -p filename.txt')``.\n",
    "Notebooks can be saved to Galaxy by clicking the large green button at the top right of the IPython interface.<br>\n",
    "More help and informations can be found on the project [website](https://github.com/bgruening/docker-jupyter-notebook)."
   ]
  },
  {
   "cell_type": "code",
   "execution_count": null,
   "metadata": {},
   "outputs": [],
   "source": [
    "pip install \"imjoy>=0.10.0\"  \"imjoy-jupyter-extension>=0.2.14\" \"imjoy-rpc>=0.2.12\""
   ]
  },
  {
   "cell_type": "code",
   "execution_count": null,
   "metadata": {},
   "outputs": [],
   "source": [
    "pip install 'itkwidgets[all]>=1.0a23'"
   ]
  },
  {
   "cell_type": "markdown",
   "metadata": {},
   "source": [
    "## Visualize a OME-Zarr from an external bucket"
   ]
  },
  {
   "cell_type": "code",
   "execution_count": 2,
   "metadata": {},
   "outputs": [
    {
     "data": {
      "application/javascript": [
       "window.connectPlugin && window.connectPlugin(\"22b110f7-9935-44a6-aeb5-24134b73f263\")"
      ],
      "text/plain": [
       "<IPython.core.display.Javascript object>"
      ]
     },
     "metadata": {},
     "output_type": "display_data"
    },
    {
     "data": {
      "text/html": [
       "<div id=\"2f1c2e51-24a4-4b55-b4d3-94d88f518f95\"></div>"
      ],
      "text/plain": [
       "<IPython.core.display.HTML object>"
      ]
     },
     "metadata": {},
     "output_type": "display_data"
    }
   ],
   "source": [
    "import zarr\n",
    "dset = zarr.open(\"https://uk1s3.embassy.ebi.ac.uk/idr/zarr/v0.1/6001237.zarr\", mode=\"r\") # open the zarr created above in jupyter kernel\n",
    "\n",
    "from imjoy_plugin import run_vizarr\n",
    "\n",
    "# Create Zarr \n",
    "img = { \"source\": dset, \"name\": \"test\" }\n",
    "\n",
    "# Run vizarr\n",
    "run_vizarr(img)"
   ]
  },
  {
   "cell_type": "markdown",
   "metadata": {},
   "source": [
    "## Visualize a local OME-Zarr"
   ]
  },
  {
   "cell_type": "code",
   "execution_count": 4,
   "metadata": {},
   "outputs": [
    {
     "data": {
      "application/javascript": [
       "window.connectPlugin && window.connectPlugin(\"22b110f7-9935-44a6-aeb5-24134b73f263\")"
      ],
      "text/plain": [
       "<IPython.core.display.Javascript object>"
      ]
     },
     "metadata": {},
     "output_type": "display_data"
    },
    {
     "data": {
      "text/html": [
       "<div id=\"48174b2c-8f8c-439f-b923-dcd0e11793aa\"></div>"
      ],
      "text/plain": [
       "<IPython.core.display.HTML object>"
      ]
     },
     "metadata": {},
     "output_type": "display_data"
    }
   ],
   "source": [
    "import zarr\n",
    "dset = zarr.open(\"ex_ngff_image.zarr\", mode=\"r\") # open the zarr created above in jupyter kernel\n",
    "\n",
    "from imjoy_plugin import run_vizarr\n",
    "\n",
    "# Create Zarr \n",
    "img = { \"source\": dset, \"name\": \"test\" }\n",
    "\n",
    "# Run vizarr\n",
    "run_vizarr(img)"
   ]
  },
  {
   "cell_type": "code",
   "execution_count": null,
   "metadata": {},
   "outputs": [],
   "source": []
  }
 ],
 "metadata": {
  "kernelspec": {
   "display_name": "Python 3",
   "language": "python",
   "name": "python3"
  },
  "language_info": {
   "codemirror_mode": {
    "name": "ipython",
    "version": 3
   },
   "file_extension": ".py",
   "mimetype": "text/x-python",
   "name": "python",
   "nbconvert_exporter": "python",
   "pygments_lexer": "ipython3",
   "version": "3.8.8"
  }
 },
 "nbformat": 4,
 "nbformat_minor": 4
}
